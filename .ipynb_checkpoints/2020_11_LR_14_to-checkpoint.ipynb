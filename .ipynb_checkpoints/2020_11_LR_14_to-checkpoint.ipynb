{
 "cells": [
  {
   "cell_type": "code",
   "execution_count": 1,
   "metadata": {},
   "outputs": [],
   "source": [
    "main = '/Users/lawrence/Documents/GitHub/CWPK/sandbox/builds/ontologies/kbpedia_reference_concepts.owl' "
   ]
  },
  {
   "cell_type": "code",
   "execution_count": 2,
   "metadata": {},
   "outputs": [],
   "source": [
    "kko_file = r'/Users/lawrence/Documents/GitHub/CWPK/sandbox/builds/ontologies/kko.owl' "
   ]
  },
  {
   "cell_type": "code",
   "execution_count": 3,
   "metadata": {},
   "outputs": [],
   "source": [
    "skos_file = 'http://www.w3.org/2004/02/skos/core#' "
   ]
  },
  {
   "cell_type": "code",
   "execution_count": 4,
   "metadata": {},
   "outputs": [],
   "source": [
    "main = 'https://raw.githubusercontent.com/Cognonto/CWPK/master/sandbox/builds/ontologies/kbpedia_reference_concepts.owl'"
   ]
  },
  {
   "cell_type": "code",
   "execution_count": 5,
   "metadata": {},
   "outputs": [],
   "source": [
    "from owlready2 import *\n",
    "onto = get_ontology(main).load()\n",
    "\n",
    "skos = get_ontology(skos_file).load()\n",
    "onto.imported_ontologies.append(skos) \n",
    "\n",
    "kko = get_ontology(kko_file).load()\n",
    "onto.imported_ontologies.append(kko)"
   ]
  },
  {
   "cell_type": "markdown",
   "metadata": {},
   "source": [
    "Let's now test to make sure the ontologies have been loaded OK by checking to see if the base IRIs for all graphs are recognized by the system:"
   ]
  },
  {
   "cell_type": "code",
   "execution_count": 6,
   "metadata": {},
   "outputs": [
    {
     "name": "stdout",
     "output_type": "stream",
     "text": [
      "http://kbpedia.org/kbpedia/rc#\n"
     ]
    }
   ],
   "source": [
    "print(onto.base_iri)"
   ]
  },
  {
   "cell_type": "code",
   "execution_count": 7,
   "metadata": {},
   "outputs": [
    {
     "name": "stdout",
     "output_type": "stream",
     "text": [
      "http://www.w3.org/2004/02/skos/core#\n"
     ]
    }
   ],
   "source": [
    "print(skos.base_iri)"
   ]
  },
  {
   "cell_type": "code",
   "execution_count": 8,
   "metadata": {},
   "outputs": [
    {
     "name": "stdout",
     "output_type": "stream",
     "text": [
      "http://kbpedia.org/ontologies/kko#\n"
     ]
    }
   ],
   "source": [
    "print(kko.base_iri)"
   ]
  },
  {
   "cell_type": "markdown",
   "metadata": {},
   "source": [
    "We can also confirm that the two additional ontologies have been properly imported:"
   ]
  },
  {
   "cell_type": "code",
   "execution_count": 9,
   "metadata": {},
   "outputs": [
    {
     "name": "stdout",
     "output_type": "stream",
     "text": [
      "[get_ontology(\"http://www.w3.org/2004/02/skos/core#\"), get_ontology(\"http://kbpedia.org/ontologies/kko#\")]\n"
     ]
    }
   ],
   "source": [
    "print(onto.imported_ontologies)"
   ]
  },
  {
   "cell_type": "markdown",
   "metadata": {},
   "source": [
    "### Inspecting Ontology Contents\n",
    "\n",
    "We can now start checking to see if the components of the ontologies have loaded properly. Let's first check on the classes:"
   ]
  },
  {
   "cell_type": "code",
   "execution_count": null,
   "metadata": {},
   "outputs": [],
   "source": [
    "list(onto.classes())"
   ]
  },
  {
   "cell_type": "markdown",
   "metadata": {},
   "source": [
    "One of the interesting aspects of owlready2 is its use of what it calls 'worlds' to isolate given items into separate namespaces. This allows different projects to be held in memory at one time, including even different open and closed reasoning that may be applied. (A topic for a later installment.)\n",
    "\n",
    "Now, it is the case that we loaded all three of our ontologies without specifying different 'world' namespaces. To see the three combined, let's actually specify the 'world' that is currently active, which is called 'default' if not otherwise specified. Rather than our previous <code>onto</code> namespace, let's now explicitly refer to this default:"
   ]
  },
  {
   "cell_type": "code",
   "execution_count": null,
   "metadata": {},
   "outputs": [],
   "source": [
    "list(default_world.classes()) "
   ]
  },
  {
   "cell_type": "markdown",
   "metadata": {},
   "source": [
    "Note the full IRI listings for the <code>kko</code> classes at the bottom of the listing. This signals a bit of a namespace recognition problem, that we will address in a few moments.\n",
    "\n",
    "We can use this same dot approach of <code>namespace.method</code> for other components in our system. (See **Additional Documentation** below for a listing of such methods available in owlready2.)\n",
    "\n",
    "In the two examples below we list the annotation properties for both the main (<code>onto</code>) and <code>skos</code> namespaces:"
   ]
  },
  {
   "cell_type": "code",
   "execution_count": null,
   "metadata": {},
   "outputs": [],
   "source": [
    "list(onto.annotation_properties())"
   ]
  },
  {
   "cell_type": "code",
   "execution_count": 12,
   "metadata": {},
   "outputs": [
    {
     "data": {
      "text/plain": [
       "[core.definition,\n",
       " core.prefLabel,\n",
       " core.altLabel,\n",
       " core.scopeNote,\n",
       " core.example,\n",
       " core.hiddenLabel,\n",
       " core.note,\n",
       " core.changeNote,\n",
       " core.editorialNote,\n",
       " core.historyNote]"
      ]
     },
     "execution_count": 12,
     "metadata": {},
     "output_type": "execute_result"
    }
   ],
   "source": [
    "list(skos.annotation_properties())"
   ]
  },
  {
   "cell_type": "markdown",
   "metadata": {},
   "source": [
    "Now, one of the RCs we see in out listing is for Eutheria, the technical name for mammals. Using the same format as above we want to get a listing of its subclasses, but adding our <code>rc.</code> prefix in fact does not work:"
   ]
  },
  {
   "cell_type": "code",
   "execution_count": null,
   "metadata": {},
   "outputs": [],
   "source": [
    "list(rc.Eutheria.subclasses())"
   ]
  },
  {
   "cell_type": "markdown",
   "metadata": {},
   "source": [
    "Hmmm, it is not immediately clear why we get the error that '<code>rc</code>' is not defined.\n",
    "\n",
    "If we look at the KBpedia Web site we see, in fact, that our prefix to individual RCs is actually <code>http://kbpedia.org/kko/rc/</code> with the trailing '/'. owlready2 documentation indicates it uses the '#' sign as its default separator for vocabulary terms. Since our system uses the '/', perhaps something got screwed up in how owlready2 recognizes our namespace.\n",
    "\n",
    "One way to deal with this potential problem explicitly is to make a direct assignment for what the IRI prefix should be. We do so via this command, where we are directing the prefix '<code>rc</code>' to recognize our standard base IRI:"
   ]
  },
  {
   "cell_type": "code",
   "execution_count": 14,
   "metadata": {},
   "outputs": [],
   "source": [
    "rc = onto.get_namespace('http://kbpedia.org/kko/rc/')"
   ]
  },
  {
   "cell_type": "markdown",
   "metadata": {},
   "source": [
    "With this new namespace assignment, we run the command again:"
   ]
  },
  {
   "cell_type": "code",
   "execution_count": null,
   "metadata": {},
   "outputs": [],
   "source": [
    "list(rc.Eutheria.subclasses())"
   ]
  },
  {
   "cell_type": "markdown",
   "metadata": {},
   "source": [
    "Voilà! We now have the proper registry of the namespace in our system.\n",
    "\n",
    "Along with absolute file names that we reference via assigned names, it is also good practice to make sure that our namespaces are properly registered before beginning work with owlready2. (I may discover better tips as we move ahead that I will post when and if discovered.)\n",
    "\n",
    "We can also check out the properties for this concept:"
   ]
  },
  {
   "cell_type": "code",
   "execution_count": 16,
   "metadata": {},
   "outputs": [
    {
     "data": {
      "text/plain": [
       "[rdf-schema.isDefinedBy,\n",
       " kko.superClassOf,\n",
       " core.altLabel,\n",
       " core.prefLabel,\n",
       " core.definition]"
      ]
     },
     "execution_count": 16,
     "metadata": {},
     "output_type": "execute_result"
    }
   ],
   "source": [
    "list(rc.Eutheria.get_class_properties())"
   ]
  },
  {
   "cell_type": "markdown",
   "metadata": {},
   "source": [
    "And, pull out our definition for the concept:"
   ]
  },
  {
   "cell_type": "code",
   "execution_count": 17,
   "metadata": {},
   "outputs": [
    {
     "name": "stdout",
     "output_type": "stream",
     "text": [
      "[\"Eutheria is a specialization of Mammal. Each instance of Eutheria is a placental mammal; most mammals are members of this collection. Eutheria are born live, nurse from their mothers' MammaryGlands and live outside their mothers' bodies.\"]\n"
     ]
    }
   ],
   "source": [
    "print(rc.Eutheria.definition)"
   ]
  },
  {
   "cell_type": "markdown",
   "metadata": {},
   "source": [
    "There is also the alternate IRI sytax for identifying a class, in this case to obtain all of the children, grandchildren, etc., of our Mammal concept (which produces a long list of mammals!):"
   ]
  },
  {
   "cell_type": "code",
   "execution_count": null,
   "metadata": {},
   "outputs": [],
   "source": [
    "IRIS['http://kbpedia.org/kko/rc/Mammal'].descendants() "
   ]
  },
  {
   "cell_type": "markdown",
   "metadata": {},
   "source": [
    "Since we have used the Python <code>list</code> method quite a bit, we can get direct assistance about the method with the standard command:"
   ]
  },
  {
   "cell_type": "code",
   "execution_count": null,
   "metadata": {},
   "outputs": [],
   "source": [
    "help(list)"
   ]
  },
  {
   "cell_type": "markdown",
   "metadata": {},
   "source": [
    "We can also conduct searches of our RCs, including with wildcards (\\*) in either the pre or post positions:"
   ]
  },
  {
   "cell_type": "code",
   "execution_count": null,
   "metadata": {},
   "outputs": [],
   "source": [
    "onto.search(iri = \"*Luggage*\")"
   ]
  },
  {
   "cell_type": "markdown",
   "metadata": {},
   "source": [
    "Another helpful command in owlready2 is to instruct the system what paths to search when it looks for referenced names:"
   ]
  },
  {
   "cell_type": "code",
   "execution_count": 23,
   "metadata": {},
   "outputs": [],
   "source": [
    "onto_path.append(\"/Users/lawrence/Documents/GitHub/CWPK/sandbox\")"
   ]
  },
  {
   "cell_type": "markdown",
   "metadata": {},
   "source": [
    "And, we can get a listing of all such paths registered:"
   ]
  },
  {
   "cell_type": "code",
   "execution_count": 24,
   "metadata": {},
   "outputs": [
    {
     "data": {
      "text/plain": [
       "['Users/lawrence/Documents/GitHub/CWPK/kbpedia/sandbox',\n",
       " '/Users/lawrence/Documents/GitHub/CWPK/sandbox']"
      ]
     },
     "execution_count": 24,
     "metadata": {},
     "output_type": "execute_result"
    }
   ],
   "source": [
    "list(onto_path)"
   ]
  },
  {
   "cell_type": "markdown",
   "metadata": {},
   "source": [
    "Lastly, for this installment, we can close by saving the ontology we have been working on, being careful in this instance to give a different file name to prevent inadvertent overwriting of our initial input file:"
   ]
  },
  {
   "cell_type": "code",
   "execution_count": 25,
   "metadata": {},
   "outputs": [],
   "source": [
    "onto.save(file = \"/Users/lawrence/Documents/GitHub/CWPK/sandbox/owl-test.owl\", format = \"rdfxml\")"
   ]
  },
  {
   "cell_type": "markdown",
   "metadata": {},
   "source": [
    "To properly exit the notebook, first pick File &rarr; Save and Checkpoint, then File &rarr; Close and Halt. This will return you to the main Jupyter files screen, from which you Quit and then close the tab. Return to the command window and finish shutting down the service with <code>ctrl+c</code>. That will return you to the command prompt, from which you may again start up a '<code>Jupyter Notebook</code>' instance. "
   ]
  },
  {
   "cell_type": "markdown",
   "metadata": {},
   "source": [
    "### Additional Documentation\n",
    "\n",
    "Here is a listing of [owlready2 ontology methods](https://owlready2.readthedocs.io/en/latest/onto.html).\n",
    "\n",
    "\n",
    " <div style=\"background-color:#efefff; border:1px dotted #ceceff; vertical-align:middle; margin:15px 60px; padding:8px;\"> \n",
    "  <span style=\"font-weight: bold;\">NOTE:</span> This article is part of the <a href=\"https://www.mkbergman.com/cooking-with-python-and-kbpedia/\" style=\"font-style: italic;\">Cooking with Python and KBpedia</a> series. See the <a href=\"https://www.mkbergman.com/cooking-with-python-and-kbpedia/\"><strong>CWPK</strong> listing</a> for other articles in the series. <a href=\"http://kbpedia.org/\">KBpedia</a> has its own Web site.\n",
    "  </div>\n",
    "\n",
    "<div style=\"background-color:#ebf8e2; border:1px dotted #71c837; vertical-align:middle; margin:15px 60px; padding:8px;\"> \n",
    "\n",
    "<span style=\"font-weight: bold;\">NOTE:</span> This <strong>CWPK \n",
    "installment</strong> is available both as an online interactive\n",
    "file <a href=\"https://mybinder.org/v2/gh/Cognonto/CWPK/master\" ><img src=\"https://mybinder.org/badge_logo.svg\" style=\"display:inline-block; vertical-align: middle;\" /></a> or as a <a href=\"https://github.com/Cognonto/CWPK\" title=\"CWPK notebook\" alt=\"CWPK notebook\">direct download</a> to use locally. Make sure and pick the correct installment number. For the online interactive option, pick the <code>*.ipynb</code> file. It may take a bit of time for the interactive option to load.</div>\n",
    "\n",
    "<div style=\"background-color:#feeedc; border:1px dotted #f7941d; vertical-align:middle; margin:15px 60px; padding:8px;\"> \n",
    "<div style=\"float: left; margin-right: 5px;\"><img src=\"http://kbpedia.org/cwpk-files/warning.png\" title=\"Caution!\" width=\"32\" /></div>I am at best an amateur with Python. There are likely more efficient methods for coding these steps than what I provide. I encourage you to experiment -- which is part of the fun of Python -- and to <a href=\"mailto:mike@mkbergman.com\">notify me</a> should you make improvements.    \n",
    "\n",
    "</div>"
   ]
  }
 ],
 "metadata": {
  "kernelspec": {
   "display_name": "Python 3",
   "language": "python",
   "name": "python3"
  },
  "language_info": {
   "codemirror_mode": {
    "name": "ipython",
    "version": 3
   },
   "file_extension": ".py",
   "mimetype": "text/x-python",
   "name": "python",
   "nbconvert_exporter": "python",
   "pygments_lexer": "ipython3",
   "version": "3.8.5"
  }
 },
 "nbformat": 4,
 "nbformat_minor": 5
}
