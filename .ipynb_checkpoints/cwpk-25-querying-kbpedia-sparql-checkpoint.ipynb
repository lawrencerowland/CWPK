{
 "cells": [
  {
   "cell_type": "markdown",
   "metadata": {},
   "source": [
    "CWPK \\#25: Querying KBpedia with SPARQL\n",
    "=======================================\n",
    "\n",
    "Now, We Open Up the Power\n",
    "--------------------------\n",
    "\n",
    "<div style=\"float: left; width: 305px; margin-right: 10px;\">\n",
    "\n",
    "<img src=\"http://kbpedia.org/cwpk-files/cooking-with-kbpedia-305.png\" title=\"Cooking with KBpedia\" width=\"305\" />\n",
    "\n",
    "</div>\n",
    "\n",
    "In our recent installments we have been looking at how to search -- ultimately, of course, related to how to extract -- information from our knowledge graph, [KBpedia](https://kbpedia.org/), and the various large-scale knowledge bases to which it maps, such as [Wikipedia](https://en.wikipedia.org/wiki/Main_Page), [DBpedia](https://en.wikipedia.org/wiki/DBpedia), and [Wikidata](https://www.wikidata.org/wiki/Wikidata:Main_Page). We've seen that [owlready2](http://www.lesfleursdunormal.fr/static/informatique/owlready/index_en.html) offers us some native search capabilities, and that we can extend that by indexing additional attributes. What is powerful about knowledge graphs, however, is that all nodes and all edges are structural from the get-go, and we can easily add meaningful structure to our searches by how we represent the pieces (nodes) and by how we relate, or connect, them using the edges.\n",
    "\n",
    "Today's knowledge graphs are explicit in organizing information by structure. The exact scope of this structure varies across representations, and certainly one challenge in getting information to work together from multiple locations and provenances is the diversity of these representations. Those are the questions of semantics, and, fortunately, semantic technologies and parsers give us rich ways to retrieve and relate that structure. So, great, we now have structure galore! What are we going to do with it?\n",
    "\n",
    "Well, this structured information exists, literally, everywhere. We have huge online structured datestores, trillions of semi-structured Web pages and records, and meaningful information and analysis across a rich pastiche of hierarchies and relationships. What is clear in any attempt to solve a meaningful problem is that we need much external information as well as much grounding in our internal circumstances. Problem solving can not be separated from obtaining and integrating meaningful information.\n",
    "\n",
    "Thus, it is essential that we be able to query external information stores on an equivalent basis to our local ones. This equivalence requires both internal and external sources be structured and queriable on an equivalent basis, which is where the [W3C](https://en.wikipedia.org/wiki/World_Wide_Web_Consortium)-enabled standards and [SPARQL](https://en.wikipedia.org/wiki/SPARQL) come in."
   ]
  },
  {
   "cell_type": "markdown",
   "metadata": {},
   "source": [
    "<h3 id=\"The-Role-of-SPARQL\">The Role of SPARQL</h3>\n",
    "<p>I think one can argue that the purpose of semantic technologies like <a href=\"https://en.wikipedia.org/wiki/Resource_Description_Framework\" target=\"_blank\" rel=\"noopener\">RDF</a> and <a href=\"https://en.wikipedia.org/wiki/Web_Ontology_Language\" target=\"_blank\" rel=\"noopener\">OWL</a> is to enable a machine-readable format for human symbolic information. As a result, we now have a rich suite of standards and implementations using those standards.</p>\n",
    "\n",
    "<p>The real purpose, and advantage, of SPARQL is to make explicit all of the structural aspects of a knowledge graph to inspection and query. Because of this intimate relationship, SPARQL is more often than not the most capable and precise language for extracting information from ontologies or knowledge graphs. SPARQL, pronounced \"sparkle\", is a recursive acronym for <em>SPARQL Protocol and RDF Query Language</em>, and has many syntactical and structural parallels with the <a href=\"https://en.wikipedia.org/wiki/SQL\" target=\"_blank\" rel=\"noopener\">SQL</a> database query language.</p>\n",
    "\n",
    "<p>All explicit assignments of a semantic term in RDF or OWL or their semantic derivatives can be used as a query basis in SPARQL. Thus, SPARQL is the <em>sine qua non</em> option for obtaining information from an ontology or knowledge graph. SPARQL is the most flexible and responsive way to manipulate a semantically structured information store.</p>\n",
    "\n",
    "<p>Let's inspect the general components of a SPARQL query specification:</p>\n",
    "\n",
    "<div style=\"margin: 10px auto; display: table;\">\n",
    "\n",
    "<img src=\"files/sparql-query-parts.png\" title=\"SPARQL Query Specification\" width=\"800\" alt=\"SPARQL Query Specification\" />\n",
    "\n",
    "</div>\n",
    "<div style=\"margin: 10px auto; display: table; font-style: italic;\">\n",
    "\n",
    "Figure 1: SPARQL Query Specification\n",
    "\n",
    "</div>\n",
    "<p>This figure is from Lee Feigenbaum's SPARQL slides, included with other useful links under the <strong>Additional Documentation</strong> below.</p>\n",
    "\n",
    "<p>Note that every SPARQL query gets directed to a specific endpoint, where access to the underlying RDF datastore takes place. These endpoints can be either local or accessed via the Web, with both examples shown below. In a standalone situation, the endpoint location is indicated by the <code>FROM</code> keyword. In our examples using RDFLib via Owlready2, these locations are set to a Python object.</p>"
   ]
  },
  {
   "cell_type": "markdown",
   "metadata": {},
   "source": [
    "### Extended Startup\n",
    "Let's start again with the start-up script we used in the last installment, only now also opening <code>rdflib</code> and relating its namespace <code>graph</code> to the <code>world</code> namespace of KBpedia.\n",
    "\n",
    "<div style=\"background-color:#eee; border:1px dotted #aaa; vertical-align:middle; margin:15px 60px; padding:8px;\"><strong>Which environment?</strong> The specific load routine you should choose below depends on whether you are using the online MyBinder service (the 'raw' version) or local files. The example below is based on using local files (though replace with your own local directory specification). If loading from MyBinder, replace with the lines that are commented (<code>#</code>) out.</div>"
   ]
  },
  {
   "cell_type": "code",
   "execution_count": 1,
   "metadata": {},
   "outputs": [],
   "source": [
    "main = '/Users/lawrence/Documents/GitHub/CWPK/sandbox/builds/ontologies/kbpedia_reference_concepts.owl'\n",
    "# main = 'https://raw.githubusercontent.com/Cognonto/CWPK/master/sandbox/builds/ontologies/kbpedia_reference_concepts.owl'\n",
    "skos_file = 'http://www.w3.org/2004/02/skos/core#' \n",
    "kko_file = '/Users/lawrence/Documents/GitHub/CWPK/sandbox/builds/ontologies/kko.owl'\n",
    "# kko_file = 'https://raw.githubusercontent.com/Cognonto/CWPK/master/sandbox/builds/ontologies/kko.owl'\n",
    "\n",
    "from owlready2 import *\n",
    "world = World()\n",
    "kb = world.get_ontology(main).load()\n",
    "rc = kb.get_namespace('http://kbpedia.org/kko/rc/')\n",
    "\n",
    "skos = world.get_ontology(skos_file).load()\n",
    "kb.imported_ontologies.append(skos)\n",
    "\n",
    "kko = world.get_ontology(kko_file).load()\n",
    "kb.imported_ontologies.append(kko)\n",
    "\n",
    "import rdflib\n",
    "\n",
    "graph = world.as_rdflib_graph()"
   ]
  },
  {
   "cell_type": "markdown",
   "metadata": {},
   "source": [
    "We could have put the <code>import</code> statement for the RDFLib package at the top, but anywhere prior to formatting the query is fine."
   ]
  },
  {
   "cell_type": "markdown",
   "metadata": {},
   "source": [
    "We now may manipulate the knowledge graph as we would in a standard way using (in this case) the namespace <code>world</code> for owlready2 and access all of the additional functionality available via RDFLib using the (in this case) the <code>graph</code> namespace. This is a great example of the Python ecosystem at work.\n",
    "\n",
    "Further, because of even greater integration, there are some native commands in Owlready2 that have been mapped to RDFLib making the syntax and conventions in working with both libraries easier.\n",
    "\n",
    "### Basic SPARQL Forms\n",
    "In the last installment we presented two wrinkles for how to express your SPARQL queries to your local datastore. This form I noted looked closer to a standard SPARQL expression shown in *Figure 1*:"
   ]
  },
  {
   "cell_type": "code",
   "execution_count": 2,
   "metadata": {},
   "outputs": [
    {
     "name": "stdout",
     "output_type": "stream",
     "text": [
      "[[rc.AbominableSnowman, 'abominable snowman'], [rc.Afroinsectiphilia, 'Afroinsectiphilia'], [rc.Eutheria, 'placental mammal'], [rc.Marsupial, 'pouched mammal'], [rc.Australosphenida, 'Australosphenida'], [rc.Bigfoot, 'Sasquatch'], [rc.Monotreme, 'monotreme'], [rc.Vampire, 'vampire'], [rc.Werewolf, 'werewolf']]\n"
     ]
    },
    {
     "name": "stderr",
     "output_type": "stream",
     "text": [
      "* Owlready2 * Warning: ignoring cyclic subclass of/subproperty of, involving:\n",
      "  http://kbpedia.org/kko/rc/Person\n",
      "  http://kbpedia.org/kko/rc/HomoSapiens\n",
      "\n"
     ]
    }
   ],
   "source": [
    "form_1 = list(graph.query_owlready(\"\"\"\n",
    "  PREFIX rc: <http://kbpedia.org/kko/rc/>\n",
    "  PREFIX skos: <http://www.w3.org/2004/02/skos/core#>\n",
    "  SELECT DISTINCT ?x ?label\n",
    "  WHERE\n",
    "  {\n",
    "    ?x rdfs:subClassOf rc:Mammal.\n",
    "    ?x skos:prefLabel  ?label. \n",
    "  }\n",
    "\"\"\"))\n",
    "\n",
    "print(form_1)"
   ]
  },
  {
   "cell_type": "markdown",
   "metadata": {},
   "source": [
    "The query above has a warning message we can ignore and lists all of the direct sub-classes to Mammal in KBpedia.\n",
    "\n",
    "The last installment also offered a second form, which is the one I will be using hereafter. I am doing so because this form, and its further abstraction, is a more repeatable approach. In general, this advantage is because we can take this format and abstract it into a 'wrapper' that encapsulates the method of making the SPARQL call separate, abstracted from the actual SPARQL specification. We will increasingly touch on these topics, but for now this is the format we will take:"
   ]
  },
  {
   "cell_type": "code",
   "execution_count": 3,
   "metadata": {},
   "outputs": [
    {
     "name": "stdout",
     "output_type": "stream",
     "text": [
      "[[rc.AbominableSnowman, 'abominable snowman'], [rc.Afroinsectiphilia, 'Afroinsectiphilia'], [rc.Eutheria, 'placental mammal'], [rc.Marsupial, 'pouched mammal'], [rc.Australosphenida, 'Australosphenida'], [rc.Bigfoot, 'Sasquatch'], [rc.Monotreme, 'monotreme'], [rc.Vampire, 'vampire'], [rc.Werewolf, 'werewolf']]\n"
     ]
    }
   ],
   "source": [
    "form_2 = \"\"\"\n",
    "  PREFIX rc: <http://kbpedia.org/kko/rc/>\n",
    "  PREFIX skos: <http://www.w3.org/2004/02/skos/core#>\n",
    "  SELECT DISTINCT ?x ?label\n",
    "  WHERE\n",
    "  {\n",
    "    ?x rdfs:subClassOf rc:Mammal.\n",
    "    ?x skos:prefLabel  ?label. \n",
    "  }\n",
    "\"\"\"\n",
    "\n",
    "results = list(graph.query_owlready(form_2))\n",
    "print(results)"
   ]
  },
  {
   "cell_type": "markdown",
   "metadata": {},
   "source": [
    "These two examples cover how to access the local datastore.\n",
    "### External SPARQL Examples\n",
    "We really like what we have seen with the SPARQL querying of the internal data store using RDFLib within Owlready2. But what of querying outside sources. (And, would it not be cool to be able to mix-and-match internal and external stuff?)\n",
    "\n",
    "As we try to use RDFLib as is against external SPARQL endpoints we quickly see that we are not adequately identifying and talking with these sites. Well, we have been here before, but the nature of stuff with Python and packages and dependencies and such often requires another capability.\n",
    "\n",
    "Some quick poking turns up that we are lacking a HTTP-aware 'wrapper' to external sites. We turn up a promising package in <code>sparqlwrapper</code>. We discover it is on <code>conda-forge</code> so we back out the system, and at the command line add the package:\n",
    "\n",
    "<code>$ conda install sparqlwrapper</code>\n",
    "\n",
    "We again get the feedback to the screen as the Anaconda configuration manager does its thing. When finally installed and the prompt returns, we again load up Jupyter Notebook and return to this notebook page.\n",
    "\n",
    "We are now ready to try our first external example, this time to Wikidata, after we <code>import SPARQLwrapper</code> and set our endpoint target to Wikidata (<code>https://query.wikidata.org/sparql</code>):"
   ]
  },
  {
   "cell_type": "code",
   "execution_count": 6,
   "metadata": {},
   "outputs": [],
   "source": [
    "from SPARQLWrapper import SPARQLWrapper, JSON\n",
    "from rdflib import Graph"
   ]
  },
  {
   "cell_type": "code",
   "execution_count": null,
   "metadata": {},
   "outputs": [],
   "source": [
    "sparql = SPARQLWrapper(\"https://query.wikidata.org/sparql\")\n",
    "\n",
    "sparql.setQuery(\"\"\"\n",
    "  PREFIX schema: <http://schema.org/>\n",
    "  SELECT ?item ?itemLabel ?wikilink ?itemDescription ?subClass ?subClassLabel WHERE {\n",
    "  VALUES ?item { wd:Q25297630\n",
    "  wd:Q537127\n",
    "  wd:Q16831714\n",
    "  wd:Q24398318\n",
    "  wd:Q11755880\n",
    "  wd:Q681337\n",
    "}\n",
    "  ?item wdt:P910 ?subClass.\n",
    "\n",
    "  SERVICE wikibase:label { bd:serviceParam wikibase:language \"en\". }\n",
    "}\n",
    "\"\"\")\n",
    "sparql.setReturnFormat(JSON)\n",
    "results = sparql.query().convert()\n",
    "print(results)"
   ]
  },
  {
   "cell_type": "markdown",
   "metadata": {},
   "source": [
    "Great! It works, and our first information retrieval from an external site!\n",
    "\n",
    "Let me point out a couple of things about this format. First, the endpoint already has some built-in prefixes (<code>wd:</code> and <code>wdt:</code>) so we did not need to declare them in the query header. Second, there are some unique query capabilities of the Wikidata site noted by the <code>SERVICE</code> designation.\n",
    "\n",
    "When first querying a new site it is perhaps best to stick to vanilla forms of SPARQL, but as one learns more it is possible to tailor queries more specifically. We also see that our setup will allow us to take advantage of what each endpoint gives us.\n",
    "\n",
    "So, let's take another example, this one using the DBpedia endpoint, to show how formats may also differ from endpoint to endpoint:"
   ]
  },
  {
   "cell_type": "code",
   "execution_count": 8,
   "metadata": {},
   "outputs": [
    {
     "name": "stdout",
     "output_type": "stream",
     "text": [
      "b'<?xml version=\"1.0\" encoding=\"UTF-8\"?>\\n<rdf:RDF\\n   xmlns:rdf=\"http://www.w3.org/1999/02/22-rdf-syntax-ns#\"\\n   xmlns:schema=\"http://schema.org/\"\\n>\\n  <rdf:Description rdf:about=\"http://dbpedia.org/resource/Cornish_language\">\\n    <schema:alternateName>kw</schema:alternateName>\\n    <rdf:type rdf:resource=\"http://schema.org/Language\"/>\\n  </rdf:Description>\\n  <rdf:Description rdf:about=\"http://dbpedia.org/resource/Occidental_language\">\\n    <rdf:type rdf:resource=\"http://schema.org/Language\"/>\\n    <schema:alternateName>ie</schema:alternateName>\\n  </rdf:Description>\\n  <rdf:Description rdf:about=\"http://dbpedia.org/resource/Kongo_language\">\\n    <schema:alternateName>kg</schema:alternateName>\\n    <rdf:type rdf:resource=\"http://schema.org/Language\"/>\\n  </rdf:Description>\\n  <rdf:Description rdf:about=\"http://dbpedia.org/resource/Aragonese_language\">\\n    <schema:alternateName>an</schema:alternateName>\\n    <rdf:type rdf:resource=\"http://schema.org/Language\"/>\\n  </rdf:Description>\\n  <rdf:Description rdf:about=\"http://dbpedia.org/resource/Azerbaijani_language\">\\n    <rdf:type rdf:resource=\"http://schema.org/Language\"/>\\n    <schema:alternateName>az</schema:alternateName>\\n  </rdf:Description>\\n  <rdf:Description rdf:about=\"http://dbpedia.org/resource/Punjabi_language\">\\n    <rdf:type rdf:resource=\"http://schema.org/Language\"/>\\n    <schema:alternateName>pa</schema:alternateName>\\n  </rdf:Description>\\n  <rdf:Description rdf:about=\"http://dbpedia.org/resource/Urdu\">\\n    <schema:alternateName>ur</schema:alternateName>\\n    <rdf:type rdf:resource=\"http://schema.org/Language\"/>\\n  </rdf:Description>\\n  <rdf:Description rdf:about=\"http://dbpedia.org/resource/Swahili_language\">\\n    <rdf:type rdf:resource=\"http://schema.org/Language\"/>\\n    <schema:alternateName>sw</schema:alternateName>\\n  </rdf:Description>\\n  <rdf:Description rdf:about=\"http://dbpedia.org/resource/Portuguese_language\">\\n    <schema:alternateName>pt</schema:alternateName>\\n    <rdf:type rdf:resource=\"http://schema.org/Language\"/>\\n  </rdf:Description>\\n  <rdf:Description rdf:about=\"http://dbpedia.org/resource/Afar_language\">\\n    <rdf:type rdf:resource=\"http://schema.org/Language\"/>\\n    <schema:alternateName>aa</schema:alternateName>\\n  </rdf:Description>\\n  <rdf:Description rdf:about=\"http://dbpedia.org/resource/Arabic\">\\n    <schema:alternateName>ar</schema:alternateName>\\n    <rdf:type rdf:resource=\"http://schema.org/Language\"/>\\n  </rdf:Description>\\n  <rdf:Description rdf:about=\"http://dbpedia.org/resource/Icelandic_language\">\\n    <schema:alternateName>is</schema:alternateName>\\n    <rdf:type rdf:resource=\"http://schema.org/Language\"/>\\n  </rdf:Description>\\n  <rdf:Description rdf:about=\"http://dbpedia.org/resource/Malayan_languages\">\\n    <rdf:type rdf:resource=\"http://schema.org/Language\"/>\\n    <schema:alternateName>ms</schema:alternateName>\\n  </rdf:Description>\\n  <rdf:Description rdf:about=\"http://dbpedia.org/resource/Assamese_language\">\\n    <schema:alternateName>as</schema:alternateName>\\n    <rdf:type rdf:resource=\"http://schema.org/Language\"/>\\n  </rdf:Description>\\n  <rdf:Description rdf:about=\"http://dbpedia.org/resource/Igbo_language\">\\n    <rdf:type rdf:resource=\"http://schema.org/Language\"/>\\n    <schema:alternateName>ig</schema:alternateName>\\n  </rdf:Description>\\n  <rdf:Description rdf:about=\"http://dbpedia.org/resource/Luba-Katanga_language\">\\n    <rdf:type rdf:resource=\"http://schema.org/Language\"/>\\n    <schema:alternateName>lu</schema:alternateName>\\n  </rdf:Description>\\n  <rdf:Description rdf:about=\"http://dbpedia.org/resource/Greek_language\">\\n    <schema:alternateName>el</schema:alternateName>\\n    <rdf:type rdf:resource=\"http://schema.org/Language\"/>\\n  </rdf:Description>\\n  <rdf:Description rdf:about=\"http://dbpedia.org/resource/Esperanto\">\\n    <rdf:type rdf:resource=\"http://schema.org/Language\"/>\\n    <schema:alternateName>eo</schema:alternateName>\\n  </rdf:Description>\\n  <rdf:Description rdf:about=\"http://dbpedia.org/resource/New_High_German\">\\n    <rdf:type rdf:resource=\"http://schema.org/Language\"/>\\n    <schema:alternateName>de</schema:alternateName>\\n  </rdf:Description>\\n  <rdf:Description rdf:about=\"http://dbpedia.org/resource/Fijian_language\">\\n    <rdf:type rdf:resource=\"http://schema.org/Language\"/>\\n    <schema:alternateName>fj</schema:alternateName>\\n  </rdf:Description>\\n  <rdf:Description rdf:about=\"http://dbpedia.org/resource/Gujarati_language\">\\n    <schema:alternateName>gu</schema:alternateName>\\n    <rdf:type rdf:resource=\"http://schema.org/Language\"/>\\n  </rdf:Description>\\n  <rdf:Description rdf:about=\"http://dbpedia.org/resource/Kirundi\">\\n    <schema:alternateName>rn</schema:alternateName>\\n    <rdf:type rdf:resource=\"http://schema.org/Language\"/>\\n  </rdf:Description>\\n  <rdf:Description rdf:about=\"http://dbpedia.org/resource/Nepali_language\">\\n    <rdf:type rdf:resource=\"http://schema.org/Language\"/>\\n    <schema:alternateName>ne</schema:alternateName>\\n  </rdf:Description>\\n  <rdf:Description rdf:about=\"http://dbpedia.org/resource/Kyrgyz_language\">\\n    <rdf:type rdf:resource=\"http://schema.org/Language\"/>\\n    <schema:alternateName>ky</schema:alternateName>\\n  </rdf:Description>\\n  <rdf:Description rdf:about=\"http://dbpedia.org/resource/Czech_language\">\\n    <rdf:type rdf:resource=\"http://schema.org/Language\"/>\\n    <schema:alternateName>cs</schema:alternateName>\\n  </rdf:Description>\\n  <rdf:Description rdf:about=\"http://dbpedia.org/resource/Sundanese_language\">\\n    <schema:alternateName>su</schema:alternateName>\\n    <rdf:type rdf:resource=\"http://schema.org/Language\"/>\\n  </rdf:Description>\\n  <rdf:Description rdf:about=\"http://dbpedia.org/resource/Wolof_language\">\\n    <schema:alternateName>wo</schema:alternateName>\\n    <rdf:type rdf:resource=\"http://schema.org/Language\"/>\\n  </rdf:Description>\\n  <rdf:Description rdf:about=\"http://dbpedia.org/resource/Herero_language\">\\n    <schema:alternateName>hz</schema:alternateName>\\n    <rdf:type rdf:resource=\"http://schema.org/Language\"/>\\n  </rdf:Description>\\n  <rdf:Description rdf:about=\"http://dbpedia.org/resource/German_language\">\\n    <schema:alternateName>de</schema:alternateName>\\n    <rdf:type rdf:resource=\"http://schema.org/Language\"/>\\n  </rdf:Description>\\n  <rdf:Description rdf:about=\"http://dbpedia.org/resource/Latvian_language\">\\n    <rdf:type rdf:resource=\"http://schema.org/Language\"/>\\n    <schema:alternateName>lv</schema:alternateName>\\n  </rdf:Description>\\n  <rdf:Description rdf:about=\"http://dbpedia.org/resource/Ojibwe_language\">\\n    <rdf:type rdf:resource=\"http://schema.org/Language\"/>\\n    <schema:alternateName>oj</schema:alternateName>\\n  </rdf:Description>\\n  <rdf:Description rdf:about=\"http://dbpedia.org/resource/Occitan_language\">\\n    <schema:alternateName>oc</schema:alternateName>\\n    <rdf:type rdf:resource=\"http://schema.org/Language\"/>\\n  </rdf:Description>\\n  <rdf:Description rdf:about=\"http://dbpedia.org/resource/Malay_language\">\\n    <rdf:type rdf:resource=\"http://schema.org/Language\"/>\\n    <schema:alternateName>ms</schema:alternateName>\\n  </rdf:Description>\\n  <rdf:Description rdf:about=\"http://dbpedia.org/resource/Burmese_language\">\\n    <schema:alternateName>my</schema:alternateName>\\n    <rdf:type rdf:resource=\"http://schema.org/Language\"/>\\n  </rdf:Description>\\n  <rdf:Description rdf:about=\"http://dbpedia.org/resource/Abkhaz_language\">\\n    <schema:alternateName>ab</schema:alternateName>\\n    <rdf:type rdf:resource=\"http://schema.org/Language\"/>\\n  </rdf:Description>\\n  <rdf:Description rdf:about=\"http://dbpedia.org/resource/Chinese_language\">\\n    <rdf:type rdf:resource=\"http://schema.org/Language\"/>\\n    <schema:alternateName>zh</schema:alternateName>\\n  </rdf:Description>\\n  <rdf:Description rdf:about=\"http://dbpedia.org/resource/Turkmen_language\">\\n    <rdf:type rdf:resource=\"http://schema.org/Language\"/>\\n    <schema:alternateName>tk</schema:alternateName>\\n  </rdf:Description>\\n  <rdf:Description rdf:about=\"http://dbpedia.org/resource/Korean_language\">\\n    <rdf:type rdf:resource=\"http://schema.org/Language\"/>\\n    <schema:alternateName>ko</schema:alternateName>\\n  </rdf:Description>\\n  <rdf:Description rdf:about=\"http://dbpedia.org/resource/Komi_language\">\\n    <schema:alternateName>kv</schema:alternateName>\\n    <rdf:type rdf:resource=\"http://schema.org/Language\"/>\\n  </rdf:Description>\\n  <rdf:Description rdf:about=\"http://dbpedia.org/resource/Volap\\xc3\\xbck\">\\n    <schema:alternateName>vo</schema:alternateName>\\n    <rdf:type rdf:resource=\"http://schema.org/Language\"/>\\n  </rdf:Description>\\n  <rdf:Description rdf:about=\"http://dbpedia.org/resource/Nynorsk\">\\n    <rdf:type rdf:resource=\"http://schema.org/Language\"/>\\n    <schema:alternateName>nn</schema:alternateName>\\n  </rdf:Description>\\n  <rdf:Description rdf:about=\"http://dbpedia.org/resource/Spanish_language\">\\n    <schema:alternateName>es</schema:alternateName>\\n    <rdf:type rdf:resource=\"http://schema.org/Language\"/>\\n  </rdf:Description>\\n  <rdf:Description rdf:about=\"http://dbpedia.org/resource/Marathi_language\">\\n    <rdf:type rdf:resource=\"http://schema.org/Language\"/>\\n    <schema:alternateName>mr</schema:alternateName>\\n  </rdf:Description>\\n  <rdf:Description rdf:about=\"http://dbpedia.org/resource/Kinyarwanda\">\\n    <schema:alternateName>rw</schema:alternateName>\\n    <rdf:type rdf:resource=\"http://schema.org/Language\"/>\\n  </rdf:Description>\\n  <rdf:Description rdf:about=\"http://dbpedia.org/resource/Faroese_language\">\\n    <rdf:type rdf:resource=\"http://schema.org/Language\"/>\\n    <schema:alternateName>fo</schema:alternateName>\\n  </rdf:Description>\\n  <rdf:Description rdf:about=\"http://dbpedia.org/resource/Swazi_language\">\\n    <rdf:type rdf:resource=\"http://schema.org/Language\"/>\\n    <schema:alternateName>ss</schema:alternateName>\\n  </rdf:Description>\\n  <rdf:Description rdf:about=\"http://dbpedia.org/resource/Ndonga_dialect\">\\n    <rdf:type rdf:resource=\"http://schema.org/Language\"/>\\n    <schema:alternateName>ng</schema:alternateName>\\n  </rdf:Description>\\n  <rdf:Description rdf:about=\"http://dbpedia.org/resource/Hiri_Motu\">\\n    <schema:alternateName>ho</schema:alternateName>\\n    <rdf:type rdf:resource=\"http://schema.org/Language\"/>\\n  </rdf:Description>\\n  <rdf:Description rdf:about=\"http://dbpedia.org/resource/Hausa_language\">\\n    <schema:alternateName>ha</schema:alternateName>\\n    <rdf:type rdf:resource=\"http://schema.org/Language\"/>\\n  </rdf:Description>\\n  <rdf:Description rdf:about=\"http://dbpedia.org/resource/Belarusian_language\">\\n    <rdf:type rdf:resource=\"http://schema.org/Language\"/>\\n    <schema:alternateName>be</schema:alternateName>\\n  </rdf:Description>\\n  <rdf:Description rdf:about=\"http://dbpedia.org/resource/Maltese_language\">\\n    <rdf:type rdf:resource=\"http://schema.org/Language\"/>\\n    <schema:alternateName>mt</schema:alternateName>\\n  </rdf:Description>\\n  <rdf:Description rdf:about=\"http://dbpedia.org/resource/Uyghur_language\">\\n    <rdf:type rdf:resource=\"http://schema.org/Language\"/>\\n    <schema:alternateName>ug</schema:alternateName>\\n  </rdf:Description>\\n  <rdf:Description rdf:about=\"http://dbpedia.org/resource/Tamil_language\">\\n    <schema:alternateName>ta</schema:alternateName>\\n    <rdf:type rdf:resource=\"http://schema.org/Language\"/>\\n  </rdf:Description>\\n  <rdf:Description rdf:about=\"http://dbpedia.org/resource/Vietnamese_language\">\\n    <schema:alternateName>vi</schema:alternateName>\\n    <rdf:type rdf:resource=\"http://schema.org/Language\"/>\\n  </rdf:Description>\\n  <rdf:Description rdf:about=\"http://dbpedia.org/resource/Ido_language\">\\n    <rdf:type rdf:resource=\"http://schema.org/Language\"/>\\n    <schema:alternateName>io</schema:alternateName>\\n  </rdf:Description>\\n  <rdf:Description rdf:about=\"http://dbpedia.org/resource/Venda_language\">\\n    <schema:alternateName>ve</schema:alternateName>\\n    <rdf:type rdf:resource=\"http://schema.org/Language\"/>\\n  </rdf:Description>\\n  <rdf:Description rdf:about=\"http://dbpedia.org/resource/Cree_language\">\\n    <schema:alternateName>cr</schema:alternateName>\\n    <rdf:type rdf:resource=\"http://schema.org/Language\"/>\\n  </rdf:Description>\\n  <rdf:Description rdf:about=\"http://dbpedia.org/resource/Slovene_language\">\\n    <schema:alternateName>sl</schema:alternateName>\\n    <rdf:type rdf:resource=\"http://schema.org/Language\"/>\\n  </rdf:Description>\\n  <rdf:Description rdf:about=\"http://dbpedia.org/resource/Malayalam\">\\n    <schema:alternateName>ml</schema:alternateName>\\n    <rdf:type rdf:resource=\"http://schema.org/Language\"/>\\n  </rdf:Description>\\n  <rdf:Description rdf:about=\"http://dbpedia.org/resource/Telugu_language\">\\n    <rdf:type rdf:resource=\"http://schema.org/Language\"/>\\n    <schema:alternateName>te</schema:alternateName>\\n  </rdf:Description>\\n  <rdf:Description rdf:about=\"http://dbpedia.org/resource/Avar_language\">\\n    <rdf:type rdf:resource=\"http://schema.org/Language\"/>\\n    <schema:alternateName>av</schema:alternateName>\\n  </rdf:Description>\\n  <rdf:Description rdf:about=\"http://dbpedia.org/resource/Tsonga_language\">\\n    <schema:alternateName>ts</schema:alternateName>\\n    <rdf:type rdf:resource=\"http://schema.org/Language\"/>\\n  </rdf:Description>\\n  <rdf:Description rdf:about=\"http://dbpedia.org/resource/Xhosa_language\">\\n    <schema:alternateName>xh</schema:alternateName>\\n    <rdf:type rdf:resource=\"http://schema.org/Language\"/>\\n  </rdf:Description>\\n  <rdf:Description rdf:about=\"http://dbpedia.org/resource/Polish_language\">\\n    <rdf:type rdf:resource=\"http://schema.org/Language\"/>\\n    <schema:alternateName>pl</schema:alternateName>\\n  </rdf:Description>\\n  <rdf:Description rdf:about=\"http://dbpedia.org/resource/Modern_English\">\\n    <rdf:type rdf:resource=\"http://schema.org/Language\"/>\\n    <schema:alternateName>en</schema:alternateName>\\n  </rdf:Description>\\n  <rdf:Description rdf:about=\"http://dbpedia.org/resource/Swedish_language\">\\n    <schema:alternateName>sv</schema:alternateName>\\n    <rdf:type rdf:resource=\"http://schema.org/Language\"/>\\n  </rdf:Description>\\n  <rdf:Description rdf:about=\"http://dbpedia.org/resource/Inuktitut\">\\n    <schema:alternateName>iu</schema:alternateName>\\n    <rdf:type rdf:resource=\"http://schema.org/Language\"/>\\n  </rdf:Description>\\n  <rdf:Description rdf:about=\"http://dbpedia.org/resource/Corsican_language\">\\n    <rdf:type rdf:resource=\"http://schema.org/Language\"/>\\n    <schema:alternateName>co</schema:alternateName>\\n  </rdf:Description>\\n  <rdf:Description rdf:about=\"http://dbpedia.org/resource/Javanese_language\">\\n    <schema:alternateName>jv</schema:alternateName>\\n    <rdf:type rdf:resource=\"http://schema.org/Language\"/>\\n  </rdf:Description>\\n  <rdf:Description rdf:about=\"http://dbpedia.org/resource/Luxembourgish_language\">\\n    <rdf:type rdf:resource=\"http://schema.org/Language\"/>\\n    <schema:alternateName>lb</schema:alternateName>\\n  </rdf:Description>\\n  <rdf:Description rdf:about=\"http://dbpedia.org/resource/Fula_language\">\\n    <rdf:type rdf:resource=\"http://schema.org/Language\"/>\\n    <schema:alternateName>ff</schema:alternateName>\\n  </rdf:Description>\\n  <rdf:Description rdf:about=\"http://dbpedia.org/resource/Tongan_language\">\\n    <rdf:type rdf:resource=\"http://schema.org/Language\"/>\\n    <schema:alternateName>to</schema:alternateName>\\n  </rdf:Description>\\n  <rdf:Description rdf:about=\"http://dbpedia.org/resource/Aymara_language\">\\n    <rdf:type rdf:resource=\"http://schema.org/Language\"/>\\n    <schema:alternateName>ay</schema:alternateName>\\n  </rdf:Description>\\n  <rdf:Description rdf:about=\"http://dbpedia.org/resource/Marshallese_language\">\\n    <rdf:type rdf:resource=\"http://schema.org/Language\"/>\\n    <schema:alternateName>mh</schema:alternateName>\\n  </rdf:Description>\\n  <rdf:Description rdf:about=\"http://dbpedia.org/resource/Hebrew_language\">\\n    <schema:alternateName>he</schema:alternateName>\\n    <rdf:type rdf:resource=\"http://schema.org/Language\"/>\\n  </rdf:Description>\\n  <rdf:Description rdf:about=\"http://dbpedia.org/resource/Chamorro_language\">\\n    <schema:alternateName>ch</schema:alternateName>\\n    <rdf:type rdf:resource=\"http://schema.org/Language\"/>\\n  </rdf:Description>\\n  <rdf:Description rdf:about=\"http://dbpedia.org/resource/Malagasy_language\">\\n    <rdf:type rdf:resource=\"http://schema.org/Language\"/>\\n    <schema:alternateName>mg</schema:alternateName>\\n  </rdf:Description>\\n  <rdf:Description rdf:about=\"http://dbpedia.org/resource/Quechuan_languages\">\\n    <schema:alternateName>qu</schema:alternateName>\\n    <rdf:type rdf:resource=\"http://schema.org/Language\"/>\\n  </rdf:Description>\\n  <rdf:Description rdf:about=\"http://dbpedia.org/resource/Bashkir_language\">\\n    <schema:alternateName>ba</schema:alternateName>\\n    <rdf:type rdf:resource=\"http://schema.org/Language\"/>\\n  </rdf:Description>\\n  <rdf:Description rdf:about=\"http://dbpedia.org/resource/Sotho_language\">\\n    <rdf:type rdf:resource=\"http://schema.org/Language\"/>\\n    <schema:alternateName>st</schema:alternateName>\\n  </rdf:Description>\\n  <rdf:Description rdf:about=\"http://dbpedia.org/resource/Albanian_language\">\\n    <rdf:type rdf:resource=\"http://schema.org/Language\"/>\\n    <schema:alternateName>sq</schema:alternateName>\\n  </rdf:Description>\\n  <rdf:Description rdf:about=\"http://dbpedia.org/resource/Uzbek_language\">\\n    <schema:alternateName>uz</schema:alternateName>\\n    <rdf:type rdf:resource=\"http://schema.org/Language\"/>\\n  </rdf:Description>\\n  <rdf:Description rdf:about=\"http://dbpedia.org/resource/Greenlandic_language\">\\n    <rdf:type rdf:resource=\"http://schema.org/Language\"/>\\n    <schema:alternateName>kl</schema:alternateName>\\n  </rdf:Description>\\n  <rdf:Description rdf:about=\"http://dbpedia.org/resource/Navajo_language\">\\n    <schema:alternateName>nv</schema:alternateName>\\n    <rdf:type rdf:resource=\"http://schema.org/Language\"/>\\n  </rdf:Description>\\n  <rdf:Description rdf:about=\"http://dbpedia.org/resource/Zulu_language\">\\n    <schema:alternateName>zu</schema:alternateName>\\n    <rdf:type rdf:resource=\"http://schema.org/Language\"/>\\n  </rdf:Description>\\n  <rdf:Description rdf:about=\"http://dbpedia.org/resource/Bokm\\xc3\\xa5l\">\\n    <rdf:type rdf:resource=\"http://schema.org/Language\"/>\\n    <schema:alternateName>nb</schema:alternateName>\\n  </rdf:Description>\\n  <rdf:Description rdf:about=\"http://dbpedia.org/resource/Tswana_language\">\\n    <schema:alternateName>tn</schema:alternateName>\\n    <rdf:type rdf:resource=\"http://schema.org/Language\"/>\\n  </rdf:Description>\\n  <rdf:Description rdf:about=\"http://dbpedia.org/resource/Romansh_language\">\\n    <rdf:type rdf:resource=\"http://schema.org/Language\"/>\\n    <schema:alternateName>rm</schema:alternateName>\\n  </rdf:Description>\\n  <rdf:Description rdf:about=\"http://dbpedia.org/resource/Chewa_language\">\\n    <schema:alternateName>ny</schema:alternateName>\\n    <rdf:type rdf:resource=\"http://schema.org/Language\"/>\\n  </rdf:Description>\\n  <rdf:Description rdf:about=\"http://dbpedia.org/resource/Afrikaans\">\\n    <schema:alternateName>af</schema:alternateName>\\n    <rdf:type rdf:resource=\"http://schema.org/Language\"/>\\n  </rdf:Description>\\n  <rdf:Description rdf:about=\"http://dbpedia.org/resource/Chuvash_language\">\\n    <schema:alternateName>cv</schema:alternateName>\\n    <rdf:type rdf:resource=\"http://schema.org/Language\"/>\\n  </rdf:Description>\\n  <rdf:Description rdf:about=\"http://dbpedia.org/resource/Modern_Greek\">\\n    <rdf:type rdf:resource=\"http://schema.org/Language\"/>\\n    <schema:alternateName>el</schema:alternateName>\\n  </rdf:Description>\\n  <rdf:Description rdf:about=\"http://dbpedia.org/resource/Catalan_language\">\\n    <rdf:type rdf:resource=\"http://schema.org/Language\"/>\\n    <schema:alternateName>ca</schema:alternateName>\\n  </rdf:Description>\\n  <rdf:Description rdf:about=\"http://dbpedia.org/resource/Ukrainian_language\">\\n    <schema:alternateName>uk</schema:alternateName>\\n    <rdf:type rdf:resource=\"http://schema.org/Language\"/>\\n  </rdf:Description>\\n  <rdf:Description rdf:about=\"http://dbpedia.org/resource/Romanian_language\">\\n    <schema:alternateName>ro</schema:alternateName>\\n    <rdf:type rdf:resource=\"http://schema.org/Language\"/>\\n  </rdf:Description>\\n  <rdf:Description rdf:about=\"http://dbpedia.org/resource/Zimbabwean_Ndebele_language\">\\n    <rdf:type rdf:resource=\"http://schema.org/Language\"/>\\n    <schema:alternateName>nd</schema:alternateName>\\n  </rdf:Description>\\n  <rdf:Description rdf:about=\"http://dbpedia.org/resource/French_language\">\\n    <schema:alternateName>fr</schema:alternateName>\\n    <rdf:type rdf:resource=\"http://schema.org/Language\"/>\\n  </rdf:Description>\\n  <rdf:Description rdf:about=\"http://dbpedia.org/resource/Danish_language\">\\n    <rdf:type rdf:resource=\"http://schema.org/Language\"/>\\n    <schema:alternateName>da</schema:alternateName>\\n  </rdf:Description>\\n  <rdf:Description rdf:about=\"http://dbpedia.org/resource/Mongolian_language\">\\n    <schema:alternateName>mn</schema:alternateName>\\n    <rdf:type rdf:resource=\"http://schema.org/Language\"/>\\n  </rdf:Description>\\n  <rdf:Description rdf:about=\"http://dbpedia.org/resource/Russian_language\">\\n    <schema:alternateName>ru</schema:alternateName>\\n    <rdf:type rdf:resource=\"http://schema.org/Language\"/>\\n  </rdf:Description>\\n  <rdf:Description rdf:about=\"http://dbpedia.org/resource/Tagalog_language\">\\n    <schema:alternateName>tl</schema:alternateName>\\n    <rdf:type rdf:resource=\"http://schema.org/Language\"/>\\n  </rdf:Description>\\n  <rdf:Description rdf:about=\"http://dbpedia.org/resource/Amharic\">\\n    <schema:alternateName>am</schema:alternateName>\\n    <rdf:type rdf:resource=\"http://schema.org/Language\"/>\\n  </rdf:Description>\\n  <rdf:Description rdf:about=\"http://dbpedia.org/resource/Bambara_language\">\\n    <schema:alternateName>bm</schema:alternateName>\\n    <rdf:type rdf:resource=\"http://schema.org/Language\"/>\\n  </rdf:Description>\\n  <rdf:Description rdf:about=\"http://dbpedia.org/resource/Breton_language\">\\n    <rdf:type rdf:resource=\"http://schema.org/Language\"/>\\n    <schema:alternateName>br</schema:alternateName>\\n  </rdf:Description>\\n  <rdf:Description rdf:about=\"http://dbpedia.org/resource/Persian_language\">\\n    <schema:alternateName>fa</schema:alternateName>\\n    <rdf:type rdf:resource=\"http://schema.org/Language\"/>\\n  </rdf:Description>\\n  <rdf:Description rdf:about=\"http://dbpedia.org/resource/Southern_Ndebele_language\">\\n    <schema:alternateName>nr</schema:alternateName>\\n    <rdf:type rdf:resource=\"http://schema.org/Language\"/>\\n  </rdf:Description>\\n  <rdf:Description rdf:about=\"http://dbpedia.org/resource/Turkish_language\">\\n    <schema:alternateName>tr</schema:alternateName>\\n    <rdf:type rdf:resource=\"http://schema.org/Language\"/>\\n  </rdf:Description>\\n  <rdf:Description rdf:about=\"http://dbpedia.org/resource/Italian_language\">\\n    <schema:alternateName>it</schema:alternateName>\\n    <rdf:type rdf:resource=\"http://schema.org/Language\"/>\\n  </rdf:Description>\\n  <rdf:Description rdf:about=\"http://dbpedia.org/resource/Lingala\">\\n    <rdf:type rdf:resource=\"http://schema.org/Language\"/>\\n    <schema:alternateName>ln</schema:alternateName>\\n  </rdf:Description>\\n  <rdf:Description rdf:about=\"http://dbpedia.org/resource/Nuosu_language\">\\n    <schema:alternateName>ii</schema:alternateName>\\n    <rdf:type rdf:resource=\"http://schema.org/Language\"/>\\n  </rdf:Description>\\n  <rdf:Description rdf:about=\"http://dbpedia.org/resource/Japanese_language\">\\n    <rdf:type rdf:resource=\"http://schema.org/Language\"/>\\n    <schema:alternateName>ja</schema:alternateName>\\n  </rdf:Description>\\n  <rdf:Description rdf:about=\"http://dbpedia.org/resource/Lithuanian_language\">\\n    <rdf:type rdf:resource=\"http://schema.org/Language\"/>\\n    <schema:alternateName>lt</schema:alternateName>\\n  </rdf:Description>\\n  <rdf:Description rdf:about=\"http://dbpedia.org/resource/Basque_language\">\\n    <rdf:type rdf:resource=\"http://schema.org/Language\"/>\\n    <schema:alternateName>eu</schema:alternateName>\\n  </rdf:Description>\\n  <rdf:Description rdf:about=\"http://dbpedia.org/resource/Bosnian_language\">\\n    <schema:alternateName>bs</schema:alternateName>\\n    <rdf:type rdf:resource=\"http://schema.org/Language\"/>\\n  </rdf:Description>\\n  <rdf:Description rdf:about=\"http://dbpedia.org/resource/Punjabi_dialects\">\\n    <rdf:type rdf:resource=\"http://schema.org/Language\"/>\\n    <schema:alternateName>pa</schema:alternateName>\\n  </rdf:Description>\\n  <rdf:Description rdf:about=\"http://dbpedia.org/resource/Northern_Sami\">\\n    <schema:alternateName>se</schema:alternateName>\\n    <rdf:type rdf:resource=\"http://schema.org/Language\"/>\\n  </rdf:Description>\\n  <rdf:Description rdf:about=\"http://dbpedia.org/resource/Walloon_language\">\\n    <rdf:type rdf:resource=\"http://schema.org/Language\"/>\\n    <schema:alternateName>wa</schema:alternateName>\\n  </rdf:Description>\\n  <rdf:Description rdf:about=\"http://dbpedia.org/resource/Shona_language\">\\n    <rdf:type rdf:resource=\"http://schema.org/Language\"/>\\n    <schema:alternateName>sn</schema:alternateName>\\n  </rdf:Description>\\n  <rdf:Description rdf:about=\"http://dbpedia.org/resource/Interlingua\">\\n    <rdf:type rdf:resource=\"http://schema.org/Language\"/>\\n    <schema:alternateName>ia</schema:alternateName>\\n  </rdf:Description>\\n  <rdf:Description rdf:about=\"http://dbpedia.org/resource/Kurdish_languages\">\\n    <rdf:type rdf:resource=\"http://schema.org/Language\"/>\\n    <schema:alternateName>ku</schema:alternateName>\\n  </rdf:Description>\\n  <rdf:Description rdf:about=\"http://dbpedia.org/resource/Odia_language\">\\n    <rdf:type rdf:resource=\"http://schema.org/Language\"/>\\n    <schema:alternateName>or</schema:alternateName>\\n  </rdf:Description>\\n  <rdf:Description rdf:about=\"http://dbpedia.org/resource/Pashto\">\\n    <rdf:type rdf:resource=\"http://schema.org/Language\"/>\\n    <schema:alternateName>ps</schema:alternateName>\\n  </rdf:Description>\\n  <rdf:Description rdf:about=\"http://dbpedia.org/resource/Hungarian_language\">\\n    <rdf:type rdf:resource=\"http://schema.org/Language\"/>\\n    <schema:alternateName>hu</schema:alternateName>\\n  </rdf:Description>\\n  <rdf:Description rdf:about=\"http://dbpedia.org/resource/Croatian_language\">\\n    <schema:alternateName>hr</schema:alternateName>\\n    <rdf:type rdf:resource=\"http://schema.org/Language\"/>\\n  </rdf:Description>\\n  <rdf:Description rdf:about=\"http://dbpedia.org/resource/Slovak_language\">\\n    <schema:alternateName>sk</schema:alternateName>\\n    <rdf:type rdf:resource=\"http://schema.org/Language\"/>\\n  </rdf:Description>\\n  <rdf:Description rdf:about=\"http://dbpedia.org/resource/Bengali_language\">\\n    <rdf:type rdf:resource=\"http://schema.org/Language\"/>\\n    <schema:alternateName>bn</schema:alternateName>\\n  </rdf:Description>\\n  <rdf:Description rdf:about=\"http://dbpedia.org/resource/Sindhi_language\">\\n    <schema:alternateName>sd</schema:alternateName>\\n    <rdf:type rdf:resource=\"http://schema.org/Language\"/>\\n  </rdf:Description>\\n  <rdf:Description rdf:about=\"http://dbpedia.org/resource/Maldivian_language\">\\n    <schema:alternateName>dv</schema:alternateName>\\n    <rdf:type rdf:resource=\"http://schema.org/Language\"/>\\n  </rdf:Description>\\n  <rdf:Description rdf:about=\"http://dbpedia.org/resource/Sardinian_language\">\\n    <schema:alternateName>sc</schema:alternateName>\\n    <rdf:type rdf:resource=\"http://schema.org/Language\"/>\\n  </rdf:Description>\\n  <rdf:Description rdf:about=\"http://dbpedia.org/resource/Zhuang_languages\">\\n    <schema:alternateName>za</schema:alternateName>\\n    <rdf:type rdf:resource=\"http://schema.org/Language\"/>\\n  </rdf:Description>\\n  <rdf:Description rdf:about=\"http://dbpedia.org/resource/Kikuyu_language\">\\n    <rdf:type rdf:resource=\"http://schema.org/Language\"/>\\n    <schema:alternateName>ki</schema:alternateName>\\n  </rdf:Description>\\n  <rdf:Description rdf:about=\"http://dbpedia.org/resource/Samoan_language\">\\n    <schema:alternateName>sm</schema:alternateName>\\n    <rdf:type rdf:resource=\"http://schema.org/Language\"/>\\n  </rdf:Description>\\n  <rdf:Description rdf:about=\"http://dbpedia.org/resource/Welsh_language\">\\n    <schema:alternateName>cy</schema:alternateName>\\n    <rdf:type rdf:resource=\"http://schema.org/Language\"/>\\n  </rdf:Description>\\n  <rdf:Description rdf:about=\"http://dbpedia.org/resource/Kanuri_language\">\\n    <rdf:type rdf:resource=\"http://schema.org/Language\"/>\\n    <schema:alternateName>kr</schema:alternateName>\\n  </rdf:Description>\\n  <rdf:Description rdf:about=\"http://dbpedia.org/resource/Lao_language\">\\n    <schema:alternateName>lo</schema:alternateName>\\n    <rdf:type rdf:resource=\"http://schema.org/Language\"/>\\n  </rdf:Description>\\n  <rdf:Description rdf:about=\"http://dbpedia.org/resource/Bislama\">\\n    <rdf:type rdf:resource=\"http://schema.org/Language\"/>\\n    <schema:alternateName>bi</schema:alternateName>\\n  </rdf:Description>\\n  <rdf:Description rdf:about=\"http://dbpedia.org/resource/Sango_language\">\\n    <schema:alternateName>sg</schema:alternateName>\\n    <rdf:type rdf:resource=\"http://schema.org/Language\"/>\\n  </rdf:Description>\\n  <rdf:Description rdf:about=\"http://dbpedia.org/resource/Somali_language\">\\n    <rdf:type rdf:resource=\"http://schema.org/Language\"/>\\n    <schema:alternateName>so</schema:alternateName>\\n  </rdf:Description>\\n  <rdf:Description rdf:about=\"http://dbpedia.org/resource/Luganda\">\\n    <schema:alternateName>lg</schema:alternateName>\\n    <rdf:type rdf:resource=\"http://schema.org/Language\"/>\\n  </rdf:Description>\\n  <rdf:Description rdf:about=\"http://dbpedia.org/resource/Macedonian_language\">\\n    <rdf:type rdf:resource=\"http://schema.org/Language\"/>\\n    <schema:alternateName>mk</schema:alternateName>\\n  </rdf:Description>\\n  <rdf:Description rdf:about=\"http://dbpedia.org/resource/Avestan\">\\n    <rdf:type rdf:resource=\"http://schema.org/Language\"/>\\n    <schema:alternateName>ae</schema:alternateName>\\n  </rdf:Description>\\n  <rdf:Description rdf:about=\"http://dbpedia.org/resource/Armenian_language\">\\n    <schema:alternateName>hy</schema:alternateName>\\n    <rdf:type rdf:resource=\"http://schema.org/Language\"/>\\n  </rdf:Description>\\n  <rdf:Description rdf:about=\"http://dbpedia.org/resource/Tatar_language\">\\n    <schema:alternateName>tt</schema:alternateName>\\n    <rdf:type rdf:resource=\"http://schema.org/Language\"/>\\n  </rdf:Description>\\n  <rdf:Description rdf:about=\"http://dbpedia.org/resource/Ossetian_language\">\\n    <rdf:type rdf:resource=\"http://schema.org/Language\"/>\\n    <schema:alternateName>os</schema:alternateName>\\n  </rdf:Description>\\n  <rdf:Description rdf:about=\"http://dbpedia.org/resource/Kwanyama_dialect\">\\n    <schema:alternateName>kj</schema:alternateName>\\n    <rdf:type rdf:resource=\"http://schema.org/Language\"/>\\n  </rdf:Description>\\n  <rdf:Description rdf:about=\"http://dbpedia.org/resource/Haitian_Creole\">\\n    <schema:alternateName>ht</schema:alternateName>\\n    <rdf:type rdf:resource=\"http://schema.org/Language\"/>\\n  </rdf:Description>\\n  <rdf:Description rdf:about=\"http://dbpedia.org/resource/Khmer_language\">\\n    <rdf:type rdf:resource=\"http://schema.org/Language\"/>\\n    <schema:alternateName>km</schema:alternateName>\\n  </rdf:Description>\\n  <rdf:Description rdf:about=\"http://dbpedia.org/resource/Dzongkha\">\\n    <rdf:type rdf:resource=\"http://schema.org/Language\"/>\\n    <schema:alternateName>dz</schema:alternateName>\\n  </rdf:Description>\\n  <rdf:Description rdf:about=\"http://dbpedia.org/resource/Georgian_language\">\\n    <rdf:type rdf:resource=\"http://schema.org/Language\"/>\\n    <schema:alternateName>ka</schema:alternateName>\\n  </rdf:Description>\\n  <rdf:Description rdf:about=\"http://dbpedia.org/resource/Tajik_language\">\\n    <rdf:type rdf:resource=\"http://schema.org/Language\"/>\\n    <schema:alternateName>tg</schema:alternateName>\\n  </rdf:Description>\\n  <rdf:Description rdf:about=\"http://dbpedia.org/resource/Tigrinya_language\">\\n    <schema:alternateName>ti</schema:alternateName>\\n    <rdf:type rdf:resource=\"http://schema.org/Language\"/>\\n  </rdf:Description>\\n  <rdf:Description rdf:about=\"http://dbpedia.org/resource/Sinhalese_language\">\\n    <schema:alternateName>si</schema:alternateName>\\n    <rdf:type rdf:resource=\"http://schema.org/Language\"/>\\n  </rdf:Description>\\n  <rdf:Description rdf:about=\"http://dbpedia.org/resource/Bulgarian_language\">\\n    <schema:alternateName>bg</schema:alternateName>\\n    <rdf:type rdf:resource=\"http://schema.org/Language\"/>\\n  </rdf:Description>\\n  <rdf:Description rdf:about=\"http://dbpedia.org/resource/M\\xc4\\x81ori_language\">\\n    <rdf:type rdf:resource=\"http://schema.org/Language\"/>\\n    <schema:alternateName>mi</schema:alternateName>\\n  </rdf:Description>\\n  <rdf:Description rdf:about=\"http://dbpedia.org/resource/Serbian_language\">\\n    <schema:alternateName>sr</schema:alternateName>\\n    <rdf:type rdf:resource=\"http://schema.org/Language\"/>\\n  </rdf:Description>\\n  <rdf:Description rdf:about=\"http://dbpedia.org/resource/Estonian_language\">\\n    <schema:alternateName>et</schema:alternateName>\\n    <rdf:type rdf:resource=\"http://schema.org/Language\"/>\\n  </rdf:Description>\\n  <rdf:Description rdf:about=\"http://dbpedia.org/resource/Pali\">\\n    <schema:alternateName>pi</schema:alternateName>\\n    <rdf:type rdf:resource=\"http://schema.org/Language\"/>\\n  </rdf:Description>\\n  <rdf:Description rdf:about=\"http://dbpedia.org/resource/Chechen_language\">\\n    <schema:alternateName>ce</schema:alternateName>\\n    <rdf:type rdf:resource=\"http://schema.org/Language\"/>\\n  </rdf:Description>\\n  <rdf:Description rdf:about=\"http://dbpedia.org/resource/Eastern_Punjabi\">\\n    <rdf:type rdf:resource=\"http://schema.org/Language\"/>\\n    <schema:alternateName>pa</schema:alternateName>\\n  </rdf:Description>\\n  <rdf:Description rdf:about=\"http://dbpedia.org/resource/Akan_language\">\\n    <schema:alternateName>ak</schema:alternateName>\\n    <rdf:type rdf:resource=\"http://schema.org/Language\"/>\\n  </rdf:Description>\\n  <rdf:Description rdf:about=\"http://dbpedia.org/resource/Latin\">\\n    <schema:alternateName>la</schema:alternateName>\\n    <rdf:type rdf:resource=\"http://schema.org/Language\"/>\\n  </rdf:Description>\\n  <rdf:Description rdf:about=\"http://dbpedia.org/resource/Oromo_language\">\\n    <schema:alternateName>om</schema:alternateName>\\n    <rdf:type rdf:resource=\"http://schema.org/Language\"/>\\n  </rdf:Description>\\n  <rdf:Description rdf:about=\"http://dbpedia.org/resource/Hindi\">\\n    <schema:alternateName>hi</schema:alternateName>\\n    <rdf:type rdf:resource=\"http://schema.org/Language\"/>\\n  </rdf:Description>\\n  <rdf:Description rdf:about=\"http://dbpedia.org/resource/Irish_language\">\\n    <rdf:type rdf:resource=\"http://schema.org/Language\"/>\\n    <schema:alternateName>ga</schema:alternateName>\\n  </rdf:Description>\\n  <rdf:Description rdf:about=\"http://dbpedia.org/resource/Kashmiri_language\">\\n    <rdf:type rdf:resource=\"http://schema.org/Language\"/>\\n    <schema:alternateName>ks</schema:alternateName>\\n  </rdf:Description>\\n  <rdf:Description rdf:about=\"http://dbpedia.org/resource/Yoruba_language\">\\n    <schema:alternateName>yo</schema:alternateName>\\n    <rdf:type rdf:resource=\"http://schema.org/Language\"/>\\n  </rdf:Description>\\n  <rdf:Description rdf:about=\"http://dbpedia.org/resource/Ewe_language\">\\n    <schema:alternateName>ee</schema:alternateName>\\n    <rdf:type rdf:resource=\"http://schema.org/Language\"/>\\n  </rdf:Description>\\n  <rdf:Description rdf:about=\"http://dbpedia.org/resource/Galician_language\">\\n    <schema:alternateName>gl</schema:alternateName>\\n    <rdf:type rdf:resource=\"http://schema.org/Language\"/>\\n  </rdf:Description>\\n  <rdf:Description rdf:about=\"http://dbpedia.org/resource/Sanskrit\">\\n    <schema:alternateName>sa</schema:alternateName>\\n    <rdf:type rdf:resource=\"http://schema.org/Language\"/>\\n  </rdf:Description>\\n  <rdf:Description rdf:about=\"http://dbpedia.org/resource/Kazakh_language\">\\n    <rdf:type rdf:resource=\"http://schema.org/Language\"/>\\n    <schema:alternateName>kk</schema:alternateName>\\n  </rdf:Description>\\n  <rdf:Description rdf:about=\"http://dbpedia.org/resource/Indonesian_language\">\\n    <rdf:type rdf:resource=\"http://schema.org/Language\"/>\\n    <schema:alternateName>id</schema:alternateName>\\n  </rdf:Description>\\n  <rdf:Description rdf:about=\"http://dbpedia.org/resource/Finnish_language\">\\n    <schema:alternateName>fi</schema:alternateName>\\n    <rdf:type rdf:resource=\"http://schema.org/Language\"/>\\n  </rdf:Description>\\n  <rdf:Description rdf:about=\"http://dbpedia.org/resource/English_language\">\\n    <schema:alternateName>en</schema:alternateName>\\n    <rdf:type rdf:resource=\"http://schema.org/Language\"/>\\n  </rdf:Description>\\n  <rdf:Description rdf:about=\"http://dbpedia.org/resource/Tahitian_language\">\\n    <schema:alternateName>ty</schema:alternateName>\\n    <rdf:type rdf:resource=\"http://schema.org/Language\"/>\\n  </rdf:Description>\\n  <rdf:Description rdf:about=\"http://dbpedia.org/resource/Scottish_Gaelic\">\\n    <rdf:type rdf:resource=\"http://schema.org/Language\"/>\\n    <schema:alternateName>gd</schema:alternateName>\\n  </rdf:Description>\\n  <rdf:Description rdf:about=\"http://dbpedia.org/resource/Kannada\">\\n    <schema:alternateName>kn</schema:alternateName>\\n    <rdf:type rdf:resource=\"http://schema.org/Language\"/>\\n  </rdf:Description>\\n  <rdf:Description rdf:about=\"http://dbpedia.org/resource/Thai_language\">\\n    <rdf:type rdf:resource=\"http://schema.org/Language\"/>\\n    <schema:alternateName>th</schema:alternateName>\\n  </rdf:Description>\\n  <rdf:Description rdf:about=\"http://dbpedia.org/resource/Standard_Tibetan\">\\n    <schema:alternateName>bo</schema:alternateName>\\n    <rdf:type rdf:resource=\"http://schema.org/Language\"/>\\n  </rdf:Description>\\n  <rdf:Description rdf:about=\"http://dbpedia.org/resource/Limburgish_language\">\\n    <rdf:type rdf:resource=\"http://schema.org/Language\"/>\\n    <schema:alternateName>li</schema:alternateName>\\n  </rdf:Description>\\n  <rdf:Description rdf:about=\"http://dbpedia.org/resource/Yiddish\">\\n    <rdf:type rdf:resource=\"http://schema.org/Language\"/>\\n    <schema:alternateName>yi</schema:alternateName>\\n  </rdf:Description>\\n  <rdf:Description rdf:about=\"http://dbpedia.org/resource/West_Frisian_language\">\\n    <schema:alternateName>fy</schema:alternateName>\\n    <rdf:type rdf:resource=\"http://schema.org/Language\"/>\\n  </rdf:Description>\\n  <rdf:Description rdf:about=\"http://dbpedia.org/resource/Dutch_language\">\\n    <rdf:type rdf:resource=\"http://schema.org/Language\"/>\\n    <schema:alternateName>nl</schema:alternateName>\\n  </rdf:Description>\\n  <rdf:Description rdf:about=\"http://dbpedia.org/resource/Inupiat_language\">\\n    <rdf:type rdf:resource=\"http://schema.org/Language\"/>\\n    <schema:alternateName>ik</schema:alternateName>\\n  </rdf:Description>\\n  <rdf:Description rdf:about=\"http://dbpedia.org/resource/Nauruan_language\">\\n    <rdf:type rdf:resource=\"http://schema.org/Language\"/>\\n    <schema:alternateName>na</schema:alternateName>\\n  </rdf:Description>\\n</rdf:RDF>\\n'\n"
     ]
    }
   ],
   "source": [
    "from SPARQLWrapper import SPARQLWrapper, RDFXML\n",
    "from rdflib import Graph\n",
    "\n",
    "sparql = SPARQLWrapper(\"http://dbpedia.org/sparql\")\n",
    "\n",
    "sparql.setQuery(\"\"\"\n",
    "    PREFIX dbo: <http://dbpedia.org/ontology/>\n",
    "    PREFIX schema: <http://schema.org/>\n",
    "\n",
    "    CONSTRUCT {\n",
    "      ?lang a schema:Language ;\n",
    "      schema:alternateName ?iso6391Code .\n",
    "    }\n",
    "    WHERE {\n",
    "      ?lang a dbo:Language ;\n",
    "      dbo:iso6391Code ?iso6391Code .\n",
    "      FILTER (STRLEN(?iso6391Code)=2) # to filter out non-valid values\n",
    "    }\n",
    "\"\"\")\n",
    "\n",
    "sparql.setReturnFormat(RDFXML)\n",
    "results = sparql.query().convert()\n",
    "print(results.serialize(format='xml'))"
   ]
  },
  {
   "cell_type": "markdown",
   "metadata": {},
   "source": [
    "Notice again how the structure of our query code is pretty patterned. We also see in the two examples how we can specify different query results serializations (<code>JSON</code> and <code>RDFXML</code> in these examples) for our results sets."
   ]
  },
  {
   "cell_type": "markdown",
   "metadata": {},
   "source": [
    "### Additional Documentation\n",
    "\n",
    "The idea of a SPARQL tutorial is outside of the defined scope of this CWPK series. But, the power of SPARQL is substantial and it is well worth the time to learn more about this flexible language, that reminds one of SQL in many ways, but has its own charms and powers. Here are some great starting links about SPARQL:\n",
    "\n",
    "- Lee Feigenbaum's [SPARQL by Example: The Cheat Sheet](https://www.slideshare.net/LeeFeigenbaum/sparql-cheat-sheet)\n",
    "- [SPARQL in 11 minutes](https://www.youtube.com/watch?v=FvGndkpa4K0) video by Bob DuCharme\n",
    "- [Learning SPARQL](http://www.learningsparql.com/) by Bob DuCharme\n",
    "- [sparqlwarpper documentation](https://github.com/RDFLib/sparqlwrapper)\n",
    "- [Wikidata SPARQL query examples](https://www.wikidata.org/wiki/Wikidata:SPARQL_query_service/queries/examples).\n",
    "\n",
    "\n",
    " <div style=\"background-color:#efefff; border:1px dotted #ceceff; vertical-align:middle; margin:15px 60px; padding:8px;\"> \n",
    "  <span style=\"font-weight: bold;\">NOTE:</span> This article is part of the <a href=\"https://www.mkbergman.com/cooking-with-python-and-kbpedia/\" style=\"font-style: italic;\">Cooking with Python and KBpedia</a> series. See the <a href=\"https://www.mkbergman.com/cooking-with-python-and-kbpedia/\"><strong>CWPK</strong> listing</a> for other articles in the series. <a href=\"http://kbpedia.org/\">KBpedia</a> has its own Web site.\n",
    "  </div>\n",
    "\n",
    "<div style=\"background-color:#ebf8e2; border:1px dotted #71c837; vertical-align:middle; margin:15px 60px; padding:8px;\"> \n",
    "\n",
    "<span style=\"font-weight: bold;\">NOTE:</span> This <strong>CWPK \n",
    "installment</strong> is available both as an online interactive\n",
    "file <a href=\"https://mybinder.org/v2/gh/Cognonto/CWPK/master\" ><img src=\"https://mybinder.org/badge_logo.svg\" style=\"display:inline-block; vertical-align: middle;\" /></a> or as a <a href=\"https://github.com/Cognonto/CWPK\" title=\"CWPK notebook\" alt=\"CWPK notebook\">direct download</a> to use locally. Make sure and pick the correct installment number. For the online interactive option, pick the <code>*.ipynb</code> file. It may take a bit of time for the interactive option to load.</div>\n",
    "\n",
    "<div style=\"background-color:#feeedc; border:1px dotted #f7941d; vertical-align:middle; margin:15px 60px; padding:8px;\"> \n",
    "<div style=\"float: left; margin-right: 5px;\"><img src=\"http://kbpedia.org/cwpk-files/warning.png\" title=\"Caution!\" width=\"32\" /></div>I am at best an amateur with Python. There are likely more efficient methods for coding these steps than what I provide. I encourage you to experiment -- which is part of the fun of Python -- and to <a href=\"mailto:mike@mkbergman.com\">notify me</a> should you make improvements.    \n",
    "\n",
    "</div>"
   ]
  }
 ],
 "metadata": {
  "kernelspec": {
   "display_name": "Python 3",
   "language": "python",
   "name": "python3"
  },
  "language_info": {
   "codemirror_mode": {
    "name": "ipython",
    "version": 3
   },
   "file_extension": ".py",
   "mimetype": "text/x-python",
   "name": "python",
   "nbconvert_exporter": "python",
   "pygments_lexer": "ipython3",
   "version": "3.8.5"
  }
 },
 "nbformat": 4,
 "nbformat_minor": 5
}
